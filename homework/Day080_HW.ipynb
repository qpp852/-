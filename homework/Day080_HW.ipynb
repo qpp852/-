{
 "cells": [
  {
   "cell_type": "markdown",
   "metadata": {},
   "source": [
    "# 請結合前面的知識與程式碼，比較不同的 optimizer 與 learning rate 組合對訓練的結果與影響\n",
    "### 常見的 optimizer 包含\n",
    "* SGD\n",
    "* RMSprop\n",
    "* AdaGrad\n",
    "* Adam"
   ]
  },
  {
   "cell_type": "code",
   "execution_count": 1,
   "metadata": {},
   "outputs": [
    {
     "name": "stderr",
     "output_type": "stream",
     "text": [
      "Using TensorFlow backend.\n"
     ]
    }
   ],
   "source": [
    "import os\n",
    "import keras\n",
    "\n",
    "# Disable GPU\n",
    "os.environ[\"CUDA_VISIBLE_DEVICES\"] = \"0\""
   ]
  },
  {
   "cell_type": "code",
   "execution_count": 2,
   "metadata": {},
   "outputs": [],
   "source": [
    "train, test = keras.datasets.cifar10.load_data()"
   ]
  },
  {
   "cell_type": "code",
   "execution_count": 3,
   "metadata": {},
   "outputs": [],
   "source": [
    "## 資料前處理\n",
    "def preproc_x(x, flatten=True):\n",
    "    x = x / 255.\n",
    "    if flatten:\n",
    "        x = x.reshape((len(x), -1))\n",
    "    return x\n",
    "\n",
    "def preproc_y(y, num_classes=10):\n",
    "    if y.shape[-1] == 1:\n",
    "        y = keras.utils.to_categorical(y, num_classes)\n",
    "    return y    "
   ]
  },
  {
   "cell_type": "code",
   "execution_count": 4,
   "metadata": {},
   "outputs": [],
   "source": [
    "x_train, y_train = train\n",
    "x_test, y_test = test\n",
    "\n",
    "# Preproc the inputs\n",
    "x_train = preproc_x(x_train)\n",
    "x_test = preproc_x(x_test)\n",
    "\n",
    "# Preprc the outputs\n",
    "y_train = preproc_y(y_train)\n",
    "y_test = preproc_y(y_test)"
   ]
  },
  {
   "cell_type": "code",
   "execution_count": 17,
   "metadata": {},
   "outputs": [],
   "source": [
    "def build_mlp(input_shape, output_units=10, num_neurons=[512, 256, 128]):\n",
    "    input_layer = keras.layers.Input(input_shape)\n",
    "    \n",
    "    for i, n_units in enumerate(num_neurons):\n",
    "        if i == 0:\n",
    "            x = keras.layers.Dense(units=n_units,\n",
    "                        activation=\"relu\",\n",
    "                        name=\"hidden_layer\"+str(i+1))(input_layer)\n",
    "        else:\n",
    "            x = keras.layers.Dense(units=n_units, activation=\"relu\", name=\"hidden_layer\"+str(i+1))(x)\n",
    "    \n",
    "    out = keras.layers.Dense(units=output_units, activation=\"softmax\",\n",
    "                             name=\"output\")(x)\n",
    "    \n",
    "    model = keras.models.Model(inputs=[input_layer], outputs=[out])\n",
    "    return model"
   ]
  },
  {
   "cell_type": "code",
   "execution_count": 19,
   "metadata": {},
   "outputs": [],
   "source": [
    "## 超參數設定\n",
    "\"\"\"\n",
    "Set your required experiment parameters\n",
    "\"\"\"\n",
    "## 超參數設定\n",
    "LEARNING_RATE = [1e-1, 1e-2] #, 1e-3, 1e-4, 1e-5]\n",
    "optimizers = [keras.optimizers.SGD, keras.optimizers.RMSprop]\n",
    "EPOCHS = 10\n",
    "BATCH_SIZE = 256\n",
    "MOMENTUM = 0.95\n"
   ]
  },
  {
   "cell_type": "code",
   "execution_count": 30,
   "metadata": {
    "scrolled": true
   },
   "outputs": [
    {
     "name": "stdout",
     "output_type": "stream",
     "text": [
      "Experiment with LR = 0.1, optimizer = <class 'keras.optimizers.SGD'>\n",
      "Model: \"model_1\"\n",
      "_________________________________________________________________\n",
      "Layer (type)                 Output Shape              Param #   \n",
      "=================================================================\n",
      "input_1 (InputLayer)         (None, 3072)              0         \n",
      "_________________________________________________________________\n",
      "hidden_layer1 (Dense)        (None, 512)               1573376   \n",
      "_________________________________________________________________\n",
      "hidden_layer2 (Dense)        (None, 256)               131328    \n",
      "_________________________________________________________________\n",
      "hidden_layer3 (Dense)        (None, 128)               32896     \n",
      "_________________________________________________________________\n",
      "output (Dense)               (None, 10)                1290      \n",
      "=================================================================\n",
      "Total params: 1,738,890\n",
      "Trainable params: 1,738,890\n",
      "Non-trainable params: 0\n",
      "_________________________________________________________________\n",
      "Train on 50000 samples, validate on 10000 samples\n",
      "Epoch 1/10\n",
      "50000/50000 [==============================] - 10s 199us/step - loss: 2.0480 - accuracy: 0.2538 - val_loss: 1.8816 - val_accuracy: 0.3157\n",
      "Epoch 2/10\n",
      "50000/50000 [==============================] - 10s 196us/step - loss: 1.8224 - accuracy: 0.3471 - val_loss: 1.8160 - val_accuracy: 0.3479\n",
      "Epoch 3/10\n",
      "50000/50000 [==============================] - 9s 190us/step - loss: 1.7291 - accuracy: 0.3822 - val_loss: 1.7263 - val_accuracy: 0.3748\n",
      "Epoch 4/10\n",
      "50000/50000 [==============================] - 9s 189us/step - loss: 1.6658 - accuracy: 0.4072 - val_loss: 1.8364 - val_accuracy: 0.3520\n",
      "Epoch 5/10\n",
      "50000/50000 [==============================] - 9s 188us/step - loss: 1.6181 - accuracy: 0.4233 - val_loss: 1.8418 - val_accuracy: 0.3464\n",
      "Epoch 6/10\n",
      "50000/50000 [==============================] - 9s 190us/step - loss: 1.5793 - accuracy: 0.4396 - val_loss: 1.6005 - val_accuracy: 0.4245\n",
      "Epoch 7/10\n",
      "50000/50000 [==============================] - 10s 194us/step - loss: 1.5467 - accuracy: 0.4504 - val_loss: 1.8600 - val_accuracy: 0.3618\n",
      "Epoch 8/10\n",
      "50000/50000 [==============================] - 10s 193us/step - loss: 1.5226 - accuracy: 0.4585 - val_loss: 1.5762 - val_accuracy: 0.4363\n",
      "Epoch 9/10\n",
      "50000/50000 [==============================] - 11s 229us/step - loss: 1.4844 - accuracy: 0.4731 - val_loss: 1.5666 - val_accuracy: 0.4323\n",
      "Epoch 10/10\n",
      "50000/50000 [==============================] - 10s 196us/step - loss: 1.4586 - accuracy: 0.4806 - val_loss: 1.5524 - val_accuracy: 0.4466\n",
      "Experiment with LR = 0.1, optimizer = <class 'keras.optimizers.RMSprop'>\n",
      "Model: \"model_1\"\n",
      "_________________________________________________________________\n",
      "Layer (type)                 Output Shape              Param #   \n",
      "=================================================================\n",
      "input_1 (InputLayer)         (None, 3072)              0         \n",
      "_________________________________________________________________\n",
      "hidden_layer1 (Dense)        (None, 512)               1573376   \n",
      "_________________________________________________________________\n",
      "hidden_layer2 (Dense)        (None, 256)               131328    \n",
      "_________________________________________________________________\n",
      "hidden_layer3 (Dense)        (None, 128)               32896     \n",
      "_________________________________________________________________\n",
      "output (Dense)               (None, 10)                1290      \n",
      "=================================================================\n",
      "Total params: 1,738,890\n",
      "Trainable params: 1,738,890\n",
      "Non-trainable params: 0\n",
      "_________________________________________________________________\n",
      "Train on 50000 samples, validate on 10000 samples\n",
      "Epoch 1/10\n",
      "50000/50000 [==============================] - 13s 251us/step - loss: 12848.0013 - accuracy: 0.1028 - val_loss: 5.6031 - val_accuracy: 0.1000 - accu - ETA\n",
      "Epoch 2/10\n",
      "50000/50000 [==============================] - 12s 241us/step - loss: 8.2735 - accuracy: 0.1001 - val_loss: 2.3108 - val_accuracy: 0.1000\n",
      "Epoch 3/10\n",
      "50000/50000 [==============================] - 13s 253us/step - loss: 2.3079 - accuracy: 0.1018 - val_loss: 2.3074 - val_accuracy: 0.1000\n",
      "Epoch 4/10\n",
      "50000/50000 [==============================] - 12s 248us/step - loss: 2.3079 - accuracy: 0.1004 - val_loss: 2.3122 - val_accuracy: 0.1000\n",
      "Epoch 5/10\n",
      "50000/50000 [==============================] - 13s 255us/step - loss: 2.3081 - accuracy: 0.0996 - val_loss: 2.3158 - val_accuracy: 0.1000\n",
      "Epoch 6/10\n",
      "50000/50000 [==============================] - 12s 244us/step - loss: 2.3076 - accuracy: 0.0987 - val_loss: 2.3200 - val_accuracy: 0.1000\n",
      "Epoch 7/10\n",
      "50000/50000 [==============================] - 12s 240us/step - loss: 2.3079 - accuracy: 0.0981 - val_loss: 2.3173 - val_accuracy: 0.1000\n",
      "Epoch 8/10\n",
      "50000/50000 [==============================] - 12s 245us/step - loss: 2.3083 - accuracy: 0.0985 - val_loss: 2.3113 - val_accuracy: 0.1000\n",
      "Epoch 9/10\n",
      "50000/50000 [==============================] - 13s 251us/step - loss: 2.3078 - accuracy: 0.0987 - val_loss: 2.3139 - val_accuracy: 0.1000\n",
      "Epoch 10/10\n",
      "50000/50000 [==============================] - 14s 276us/step - loss: 2.3076 - accuracy: 0.1013 - val_loss: 2.3156 - val_accuracy: 0.1000\n",
      "Experiment with LR = 0.01, optimizer = <class 'keras.optimizers.SGD'>\n",
      "Model: \"model_1\"\n",
      "_________________________________________________________________\n",
      "Layer (type)                 Output Shape              Param #   \n",
      "=================================================================\n",
      "input_1 (InputLayer)         (None, 3072)              0         \n",
      "_________________________________________________________________\n",
      "hidden_layer1 (Dense)        (None, 512)               1573376   \n",
      "_________________________________________________________________\n",
      "hidden_layer2 (Dense)        (None, 256)               131328    \n",
      "_________________________________________________________________\n",
      "hidden_layer3 (Dense)        (None, 128)               32896     \n",
      "_________________________________________________________________\n",
      "output (Dense)               (None, 10)                1290      \n",
      "=================================================================\n",
      "Total params: 1,738,890\n",
      "Trainable params: 1,738,890\n",
      "Non-trainable params: 0\n",
      "_________________________________________________________________\n",
      "Train on 50000 samples, validate on 10000 samples\n",
      "Epoch 1/10\n",
      "50000/50000 [==============================] - 12s 247us/step - loss: 2.0588 - accuracy: 0.2740 - val_loss: 1.9356 - val_accuracy: 0.3133\n",
      "Epoch 2/10\n",
      "50000/50000 [==============================] - 10s 193us/step - loss: 1.8759 - accuracy: 0.3421 - val_loss: 1.8614 - val_accuracy: 0.3301\n",
      "Epoch 3/10\n",
      "50000/50000 [==============================] - 11s 224us/step - loss: 1.8108 - accuracy: 0.3635 - val_loss: 1.8871 - val_accuracy: 0.3348\n",
      "Epoch 4/10\n",
      "50000/50000 [==============================] - 10s 205us/step - loss: 1.7678 - accuracy: 0.3780 - val_loss: 1.7833 - val_accuracy: 0.3696\n",
      "Epoch 5/10\n",
      "50000/50000 [==============================] - 10s 206us/step - loss: 1.7287 - accuracy: 0.3901 - val_loss: 1.7241 - val_accuracy: 0.3895\n",
      "Epoch 6/10\n",
      "50000/50000 [==============================] - 10s 193us/step - loss: 1.6974 - accuracy: 0.4027 - val_loss: 1.7198 - val_accuracy: 0.3844\n",
      "Epoch 7/10\n",
      "50000/50000 [==============================] - 10s 194us/step - loss: 1.6689 - accuracy: 0.4109 - val_loss: 1.6966 - val_accuracy: 0.3988\n",
      "Epoch 8/10\n",
      "50000/50000 [==============================] - 10s 194us/step - loss: 1.6493 - accuracy: 0.4179 - val_loss: 1.7631 - val_accuracy: 0.3753\n",
      "Epoch 9/10\n",
      "50000/50000 [==============================] - 10s 192us/step - loss: 1.6323 - accuracy: 0.4250 - val_loss: 1.6113 - val_accuracy: 0.4344\n",
      "Epoch 10/10\n",
      "50000/50000 [==============================] - 13s 263us/step - loss: 1.6066 - accuracy: 0.4345 - val_loss: 1.8554 - val_accuracy: 0.3487\n",
      "Experiment with LR = 0.01, optimizer = <class 'keras.optimizers.RMSprop'>\n",
      "Model: \"model_1\"\n",
      "_________________________________________________________________\n",
      "Layer (type)                 Output Shape              Param #   \n",
      "=================================================================\n",
      "input_1 (InputLayer)         (None, 3072)              0         \n",
      "_________________________________________________________________\n",
      "hidden_layer1 (Dense)        (None, 512)               1573376   \n",
      "_________________________________________________________________\n",
      "hidden_layer2 (Dense)        (None, 256)               131328    \n",
      "_________________________________________________________________\n",
      "hidden_layer3 (Dense)        (None, 128)               32896     \n",
      "_________________________________________________________________\n",
      "output (Dense)               (None, 10)                1290      \n",
      "=================================================================\n",
      "Total params: 1,738,890\n",
      "Trainable params: 1,738,890\n",
      "Non-trainable params: 0\n",
      "_________________________________________________________________\n"
     ]
    },
    {
     "name": "stdout",
     "output_type": "stream",
     "text": [
      "Train on 50000 samples, validate on 10000 samples\n",
      "Epoch 1/10\n",
      "50000/50000 [==============================] - 12s 248us/step - loss: 8.9224 - accuracy: 0.0987 - val_loss: 2.3037 - val_accuracy: 0.0999\n",
      "Epoch 2/10\n",
      "50000/50000 [==============================] - 13s 257us/step - loss: 2.3078 - accuracy: 0.0986 - val_loss: 2.3033 - val_accuracy: 0.1004\n",
      "Epoch 3/10\n",
      "50000/50000 [==============================] - 11s 223us/step - loss: 2.2688 - accuracy: 0.1208 - val_loss: 2.3088 - val_accuracy: 0.1373\n",
      "Epoch 4/10\n",
      "50000/50000 [==============================] - 11s 230us/step - loss: 2.1415 - accuracy: 0.1646 - val_loss: 2.1762 - val_accuracy: 0.1538\n",
      "Epoch 5/10\n",
      "50000/50000 [==============================] - 11s 225us/step - loss: 2.1204 - accuracy: 0.1743 - val_loss: 2.1099 - val_accuracy: 0.1777\n",
      "Epoch 6/10\n",
      "50000/50000 [==============================] - 11s 216us/step - loss: 2.1127 - accuracy: 0.1774 - val_loss: 2.0803 - val_accuracy: 0.1913\n",
      "Epoch 7/10\n",
      "50000/50000 [==============================] - 13s 263us/step - loss: 2.1037 - accuracy: 0.1810 - val_loss: 2.1289 - val_accuracy: 0.1809\n",
      "Epoch 8/10\n",
      "50000/50000 [==============================] - 12s 243us/step - loss: 2.1015 - accuracy: 0.1831 - val_loss: 2.0870 - val_accuracy: 0.1860\n",
      "Epoch 9/10\n",
      "50000/50000 [==============================] - 12s 231us/step - loss: 2.0986 - accuracy: 0.1803 - val_loss: 2.0703 - val_accuracy: 0.1776\n",
      "Epoch 10/10\n",
      "50000/50000 [==============================] - 11s 217us/step - loss: 2.0887 - accuracy: 0.1816 - val_loss: 2.0743 - val_accuracy: 0.1799\n"
     ]
    }
   ],
   "source": [
    "results = {}\n",
    "\"\"\"\n",
    "使用迴圈，建立不同 Learning rate 的模型並訓練\n",
    "\"\"\"\n",
    "for lr in LEARNING_RATE:\n",
    "    for optimizer in optimizers:\n",
    "        keras.backend.clear_session() # 把舊的 Graph 清掉\n",
    "        print(f\"Experiment with LR = {lr}, optimizer = {optimizer}\")\n",
    "        model = build_mlp(input_shape=x_train.shape[1:])\n",
    "        model.summary()\n",
    "    \n",
    "        args = {'learning_rate':lr}\n",
    "        \n",
    "        model.compile(loss=\"categorical_crossentropy\", metrics=[\"accuracy\"],\n",
    "                      optimizer=optimizer(**args))\n",
    "\n",
    "        model.fit(x_train, y_train, \n",
    "                  epochs=EPOCHS, \n",
    "                  batch_size=BATCH_SIZE, \n",
    "                  validation_data=(x_test, y_test), \n",
    "                  shuffle=True)\n",
    "    \n",
    "        # Collect results\n",
    "        train_loss = model.history.history[\"loss\"]\n",
    "        valid_loss = model.history.history[\"val_loss\"]\n",
    "        train_acc = model.history.history[\"accuracy\"]\n",
    "        valid_acc = model.history.history[\"val_accuracy\"]\n",
    "\n",
    "        exp_name_tag = \"exp-lr-%s\" % str(lr)\n",
    "        results[exp_name_tag] = {'train-loss': train_loss,\n",
    "                                 'valid-loss': valid_loss,\n",
    "                                 'train-acc': train_acc,\n",
    "                                 'valid-acc': valid_acc}\n"
   ]
  },
  {
   "cell_type": "code",
   "execution_count": 31,
   "metadata": {},
   "outputs": [
    {
     "data": {
      "image/png": "[encoded data removed]",
      "text/plain": [
       "<Figure size 576x432 with 1 Axes>"
      ]
     },
     "metadata": {
      "needs_background": "light"
     },
     "output_type": "display_data"
    },
    {
     "data": {
      "image/png": "[encoded data removed]",
      "text/plain": [
       "<Figure size 576x432 with 1 Axes>"
      ]
     },
     "metadata": {
      "needs_background": "light"
     },
     "output_type": "display_data"
    }
   ],
   "source": [
    "import matplotlib.pyplot as plt\n",
    "%matplotlib inline\n",
    "\n",
    "\"\"\"\n",
    "將實驗結果繪出\n",
    "\"\"\"\n",
    "import matplotlib.pyplot as plt\n",
    "%matplotlib inline\n",
    "color_bar = [\"r\", \"g\", \"b\", \"y\", \"m\", \"k\"]\n",
    "\n",
    "plt.figure(figsize=(8,6))\n",
    "for i, cond in enumerate(results.keys()):\n",
    "    plt.plot(range(len(results[cond]['train-loss'])),results[cond]['train-loss'], '-', label=cond, color=color_bar[i])\n",
    "    plt.plot(range(len(results[cond]['valid-loss'])),results[cond]['valid-loss'], '--', label=cond, color=color_bar[i])\n",
    "plt.title(\"Loss\")\n",
    "plt.legend()\n",
    "plt.show()\n",
    "\n",
    "plt.figure(figsize=(8,6))\n",
    "for i, cond in enumerate(results.keys()):\n",
    "    plt.plot(range(len(results[cond]['train-acc'])),results[cond]['train-acc'], '-', label=cond, color=color_bar[i])\n",
    "    plt.plot(range(len(results[cond]['valid-acc'])),results[cond]['valid-acc'], '--', label=cond, color=color_bar[i])\n",
    "plt.title(\"Accuracy\")\n",
    "plt.legend()\n",
    "plt.show()"
   ]
  }
 ],
 "metadata": {
  "kernelspec": {
   "display_name": "Python 3",
   "language": "python",
   "name": "python3"
  },
  "language_info": {
   "codemirror_mode": {
    "name": "ipython",
    "version": 3
   },
   "file_extension": ".py",
   "mimetype": "text/x-python",
   "name": "python",
   "nbconvert_exporter": "python",
   "pygments_lexer": "ipython3",
   "version": "3.7.6"
  }
 },
 "nbformat": 4,
 "nbformat_minor": 2
}
