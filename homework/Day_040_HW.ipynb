{
 "cells": [
  {
   "cell_type": "markdown",
   "metadata": {},
   "source": [
    "## [作業重點]\n",
    "使用 Sklearn 中的 Lasso, Ridge 模型，來訓練各種資料集，務必了解送進去模型訓練的**資料型態**為何，也請了解模型中各項參數的意義。\n",
    "\n",
    "機器學習的模型非常多種，但要訓練的資料多半有固定的格式，確保你了解訓練資料的格式為何，這樣在應用新模型時，就能夠最快的上手開始訓練！"
   ]
  },
  {
   "cell_type": "markdown",
   "metadata": {},
   "source": [
    "## 練習時間\n",
    "試著使用 sklearn datasets 的其他資料集 (boston, ...)，來訓練自己的線性迴歸模型，並加上適當的正則化來觀察訓練情形。"
   ]
  },
  {
   "cell_type": "code",
   "execution_count": 18,
   "metadata": {},
   "outputs": [],
   "source": [
    "import pandas as pd \n",
    "import numpy as np\n",
    "import matplotlib.pyplot as plt\n",
    "plt.style.use('ggplot')\n",
    "from sklearn import datasets, linear_model\n",
    "from sklearn.model_selection import train_test_split\n",
    "from sklearn.metrics import mean_squared_error, r2_score"
   ]
  },
  {
   "cell_type": "code",
   "execution_count": 19,
   "metadata": {},
   "outputs": [
    {
     "name": "stdout",
     "output_type": "stream",
     "text": [
      "[ 2.56935318e-01 -5.85019576e-03 -2.71913812e-02 -5.01024041e-04\n",
      " -1.86879958e+00  4.37250045e+00 -1.51703187e+00 -5.80167333e-01\n",
      " -9.78636323e-02 -9.58177006e-01 -5.08456347e-01  2.88628765e-02\n",
      "  2.69835971e-02  1.20902448e-03 -1.76512805e+01 -3.68849849e+00\n",
      "  3.43825535e+00 -1.19516371e+01  1.13782974e+00  2.34511788e+01\n",
      " -2.02257347e-01 -6.82434945e-03 -1.03314367e-03  1.17303323e-03\n",
      "  3.81074545e-01  5.12918462e-01 -4.16401497e-01 -4.39449874e-01\n",
      " -9.34415896e-01 -6.43903748e+00]\n"
     ]
    }
   ],
   "source": [
    "# Linear Regression\n",
    "boston = datasets.load_boston()\n",
    "X_train, X_test, y_train, y_test = train_test_split(cancer.data, cancer.target, test_size=0.2, random_state=4)\n",
    "reger = linear_model.LinearRegression().fit(X_train, y_train)\n",
    "y_pred = reger.predict(X_test)\n",
    "print(reger.coef_)"
   ]
  },
  {
   "cell_type": "code",
   "execution_count": 20,
   "metadata": {},
   "outputs": [
    {
     "name": "stdout",
     "output_type": "stream",
     "text": [
      "[-0.         -0.         -0.          0.00026846 -0.         -0.\n",
      " -0.         -0.         -0.         -0.         -0.         -0.\n",
      " -0.         -0.00016546 -0.         -0.         -0.         -0.\n",
      " -0.         -0.         -0.         -0.01013982 -0.02084867  0.00045522\n",
      " -0.         -0.         -0.         -0.         -0.         -0.        ]\n"
     ]
    }
   ],
   "source": [
    "# Lasso Regression\n",
    "cancer = datasets.load_breast_cancer()\n",
    "X_train, X_test, y_train, y_test = train_test_split(cancer.data, cancer.target, test_size=0.2, random_state=4)\n",
    "lasso = linear_model.Lasso(alpha = 0.1).fit(X_train, y_train)\n",
    "y_pred = lasso.predict(X_test)\n",
    "print(lasso.coef_)"
   ]
  },
  {
   "cell_type": "code",
   "execution_count": 21,
   "metadata": {},
   "outputs": [
    {
     "name": "stdout",
     "output_type": "stream",
     "text": [
      "[ 4.65623799e-02 -9.05842355e-03  9.07742149e-03 -7.86366746e-04\n",
      " -3.81118205e-01  8.59004855e-01 -4.27521581e-01 -6.72333714e-01\n",
      " -1.19516527e-01 -3.85495454e-02 -3.54218597e-01  2.66606544e-03\n",
      " -1.18330928e-02  1.58156599e-03 -3.62172596e-01  1.77732765e-02\n",
      "  9.09467258e-01 -2.08394681e-01 -2.91402296e-02  1.59614506e-02\n",
      " -2.08200759e-01 -4.09232450e-03  1.73632955e-03  1.14040684e-03\n",
      " -1.16225707e+00  2.26873572e-01 -4.71800627e-01 -1.01998277e+00\n",
      " -5.39087715e-01 -6.37078792e-01]\n"
     ]
    }
   ],
   "source": [
    "# Ridge Regression\n",
    "cancer = datasets.load_breast_cancer()\n",
    "X_train, X_test, y_train, y_test = train_test_split(cancer.data, cancer.target, test_size=0.2, random_state=4)\n",
    "ridge = linear_model.Ridge(alpha = 0.1).fit(X_train, y_train)\n",
    "y_pred = ridge.predict(X_test)\n",
    "print(ridge.coef_)"
   ]
  }
 ],
 "metadata": {
  "kernelspec": {
   "display_name": "Python 3",
   "language": "python",
   "name": "python3"
  },
  "language_info": {
   "codemirror_mode": {
    "name": "ipython",
    "version": 3
   },
   "file_extension": ".py",
   "mimetype": "text/x-python",
   "name": "python",
   "nbconvert_exporter": "python",
   "pygments_lexer": "ipython3",
   "version": "3.7.6"
  }
 },
 "nbformat": 4,
 "nbformat_minor": 2
}
